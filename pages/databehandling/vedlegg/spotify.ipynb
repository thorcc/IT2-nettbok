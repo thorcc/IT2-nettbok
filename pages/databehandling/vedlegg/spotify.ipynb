{
 "cells": [
  {
   "cell_type": "markdown",
   "metadata": {},
   "source": [
    "# Eksempel: Spotify\n",
    "\n",
    "> Fil som brukes: [./spotify-weekly-top-songs-global-uke2-2023.json](./spotify-weekly-top-songs-global-uke2-2023.json)\n",
    "\n",
    "1. [Lesing av JSON-fil](#1-lesing-av-json-fil)\n",
    "2. [Artist med flest sanger på topplista](#2-artist-med-flest-sanger-på-topplista)"
   ]
  },
  {
   "cell_type": "markdown",
   "metadata": {},
   "source": [
    "## 1. Lesing av JSON-fil"
   ]
  },
  {
   "cell_type": "code",
   "execution_count": 17,
   "metadata": {},
   "outputs": [
    {
     "name": "stdout",
     "output_type": "stream",
     "text": [
      "{'navn': 'La Diabla', 'artist': 'Xavi', 'bilde_url': 'https://i.scdn.co/image/ab67616d00001e021501c770de50a22b25d67611', 'plassering': 1, 'forrige_plassering': 1, 'topplassering': 1, 'topp_dato': '2024-01-11', 'uker_paa_listen': 5, 'antall_streams': 34195950}\n"
     ]
    }
   ],
   "source": [
    "import json # importerer json-biblioteket\n",
    "filplassering = \"./spotify-weekly-top-songs-global-uke2-2023.json\"\n",
    "\n",
    "# åpner filen og gir den navnet fil\n",
    "with open(filplassering, encoding=\"utf-8\") as fil:\n",
    "    # tolker innholdet i filen i json-format og lagrer innholdet i variabelen data\n",
    "    toppliste = json.load(fil)\n",
    "\n",
    "# Printer første artist for å sjekke at filinnlesingen ble riktig\n",
    "print(toppliste[0]) "
   ]
  },
  {
   "cell_type": "markdown",
   "metadata": {},
   "source": [
    "## 2. Artist med flest sanger på topplista"
   ]
  },
  {
   "cell_type": "code",
   "execution_count": 18,
   "metadata": {},
   "outputs": [
    {
     "name": "stdout",
     "output_type": "stream",
     "text": [
      "{'Xavi': 4, 'Tate McRae': 2, 'Jack Harlow': 1, 'Taylor Swift': 10, 'The Weeknd': 10, 'Mitski': 1, 'Noah Kahan': 1, 'Jung Kook': 3, 'Doja Cat': 2, 'Feid': 2, 'Peso Pluma': 4, 'Kenya Grace': 1, 'Arctic Monkeys': 4, 'Tyla': 1, 'Bad Bunny': 2, 'KAROL G': 3, 'Olivia Rodrigo': 2, 'Calle 24': 1, 'iñigo quintero': 1, 'Fuerza Regida': 2, 'Billie Eilish': 2, 'SZA': 2, 'Harry Styles': 1, 'David Kushner': 1, 'Vance Joy': 1, 'Dua Lipa': 2, 'Teddy Swims': 1, 'Sophie Ellis-Bextor': 1, 'JID': 1, 'Maluma': 1, 'Zach Bryan': 2, 'cassö': 1, 'Miley Cyrus': 1, 'Lord Huron': 1, 'The Neighbourhood': 1, 'Myke Towers': 2, 'Sabrina Carpenter': 2, 'V': 1, 'Drake': 5, 'Grupo Frontera': 2, 'Tom Odell': 1, 'Tyler, The Creator': 1, 'Gunna': 1, 'Quevedo': 1, 'Jimin': 2, 'David Guetta': 1, 'Nicki Minaj': 1, 'Post Malone': 1, 'Travis Scott': 4, 'Rema': 1, 'OneRepublic': 2, 'Coldplay': 2, 'Vishal Mishra': 1, 'Lewis Capaldi': 1, 'Kanye West': 4, 'Carin Leon': 1, 'Junior H': 1, 'Metro Boomin': 3, 'Bruno Mars': 4, 'Cigarettes After Sex': 1, 'Keane': 1, 'Anuv Jain': 1, 'Eminem': 5, 'Frank Ocean': 1, 'J. Cole': 1, 'JC NO BEAT': 1, 'Manuel Turizo': 1, 'Eugenio Esquivel': 1, 'The Walters': 1, 'TV Girl': 2, 'Rauw Alejandro': 1, 'Jere Klein': 1, 'LE SSERAFIM': 1, 'Rihanna': 2, 'Macklemore & Ryan Lewis': 1, 'Kali Uchis': 1, 'Lana Del Rey': 1, 'Hotel Ugly': 1, 'Adele': 2, 'd4vd': 2, 'Luan Santana': 1, 'Eslabon Armado': 1, 'The Police': 1, 'Glass Animals': 1, 'The Killers': 1, 'Conan Gray': 1, 'Imagine Dragons': 3, 'The Kid LAROI': 1, 'Justin Bieber': 1, 'Miguel': 1, 'Creedence Clearwater Revival': 1, 'Steve Lacy': 1, 'Lil Tecca': 1, 'Tory Lanez': 1, 'Hozier': 1, 'Alex Favela': 1, 'Tears For Fears': 1, 'Dave': 1, 'Elton John': 1, 'UMI': 1, 'Linkin Park': 1, 'Dj GBR': 1, 'Ruth B.': 1, 'a-ha': 1, 'Ed Sheeran': 1, 'BENNETT': 1, 'NewJeans': 1, 'Stephen Sanchez': 1, 'Bellakath': 1, 'Morgan Wallen': 1, 'JVKE': 1, 'Kendrick Lamar': 1, 'Arijit Singh': 1, 'Yng Lvcas': 1, 'Plan B': 1, 'Radiohead': 1, 'FIFTY FIFTY': 1, 'Fleetwood Mac': 1, 'Paul Russell': 1, 'The Goo Goo Dolls': 1, 'Lauana Prado': 1, 'One Direction': 1, 'Avicii': 1, 'Gabito Ballesteros': 1, 'Maroon 5': 1, 'New West': 1, 'DJ Snake': 1, 'Natanael Cano': 1}\n"
     ]
    }
   ],
   "source": [
    "# lager en tom ordbok som skal fylles med artister\n",
    "# i ordboken skal artistnavn være nøkler og verdiene skal være antall sanger\n",
    "# eks: {\n",
    "#        \"Taylor Swift\": 3, \n",
    "#        \"Bad Bunny\": 4,\n",
    "#        ...\n",
    "#      }\n",
    "artister = {}\n",
    "\n",
    "for sang in toppliste:\n",
    "    artist = sang[\"artist\"] # henter ut artistnavn\n",
    "    if artist not in artister: # hvis ikke er en nøkkel i ordboken:\n",
    "        artister[artist] = 1 # legg til en ny nøkkel artist med verdien 1\n",
    "    else: # hvis artist allerede er i ordboken:\n",
    "        artister[artist] += 1 # øk verdien med 1\n",
    "\n",
    "print(artister) # print hele ordboken"
   ]
  },
  {
   "cell_type": "code",
   "execution_count": 19,
   "metadata": {},
   "outputs": [
    {
     "name": "stdout",
     "output_type": "stream",
     "text": [
      "Taylor Swift har flest sanger på topplisten, han/hun har 10 sanger på listen\n"
     ]
    }
   ],
   "source": [
    "# for å finne ut hvem som har flest sanger på topplisten kan vi bruke\n",
    "# en modifisert versjon av algoritmen for å finne høyeste tall i en liste\n",
    "\n",
    "# oppretter to variabler med verdier som skal byttes ut\n",
    "høyest_antall = -1 \n",
    "høyest_artist = \"\"\n",
    "\n",
    "# går gjennom alle artister\n",
    "for artist in artister:\n",
    "    antall_sanger = artister[artist] # henter ut antall sanger fra ordboken\n",
    "    if antall_sanger > høyest_antall: # hvis antall sanger er større enn det høyeste antallet:\n",
    "        # oppdaterer verdiene til variablene som husker på hvem som har høyest til nå\n",
    "        høyest_antall = antall_sanger\n",
    "        høyest_artist = artist\n",
    "\n",
    "# nå kan vi printe ut resultatet\n",
    "print(f\"{høyest_artist} har flest sanger på topplisten, han/hun har {høyest_antall} sanger på listen\")"
   ]
  }
 ],
 "metadata": {
  "kernelspec": {
   "display_name": "Python 3",
   "language": "python",
   "name": "python3"
  },
  "language_info": {
   "codemirror_mode": {
    "name": "ipython",
    "version": 3
   },
   "file_extension": ".py",
   "mimetype": "text/x-python",
   "name": "python",
   "nbconvert_exporter": "python",
   "pygments_lexer": "ipython3",
   "version": "3.12.0"
  }
 },
 "nbformat": 4,
 "nbformat_minor": 2
}
